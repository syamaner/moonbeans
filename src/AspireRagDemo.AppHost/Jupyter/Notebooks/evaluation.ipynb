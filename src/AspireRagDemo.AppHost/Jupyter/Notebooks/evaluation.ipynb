{
 "cells": [
  {
   "cell_type": "code",
   "execution_count": null,
   "id": "d757e336-7b98-44af-ae16-716b15d446bc",
   "metadata": {},
   "outputs": [],
   "source": [
    "import umap\n",
    "import os\n",
    "import requests\n",
    "import numpy as np\n",
    "import matplotlib.pyplot as plt\n",
    "# //ConnectionStrings__chat-model Endpoint=http://ollama:11434;Model=phi3.5\n",
    "# //ConnectionStrings__embedding-model Endpoint=http://ollama:11434;Model=mxbai-embed-large\n",
    "# //ConnectionStrings__qdrant Endpoint=http://qdrant:6334;Key=aMjJKx0t1a6E9hysaCacWz\n",
    "# //ConnectionStrings__qdrant_http Endpoint=http://qdrant:6333;Key=aMjJKx0t1a6E9hysaCacWz\n",
    "# //services__api-service__http__0 http://host.docker.internal:5026\n",
    "\n",
    "# show me the environment variable services__api-service__http__0\n",
    "api_service_url = os.getenv('services__api-service__http__0')\n",
    "print(api_service_url)\n",
    "queries = [\"lion\",\"cat\",\"stevens\",\"flower\",\"building\", \"king\", \"queen\",\"bed\",\"hotel\"]\n",
    "colors = ['red', 'blue', 'green', 'purple', 'orange', 'brown', 'pink', 'gray', 'cyan']\n",
    "embeddings = []\n",
    "for q in queries:\n",
    "    embeddings.append(requests.get(f\"{api_service_url}/embedding?input={q}\").json())\n",
    "\n",
    "combined_embeddings = np.vstack(embeddings)\n",
    "\n",
    "# Set n_neighbors to 2 (square root of 4, rounded down)\n",
    "reducer = umap.UMAP(n_neighbors=3)\n",
    "reduced_embeddings = reducer.fit_transform(combined_embeddings)\n",
    "\n",
    "# Create a scatter plot with different colors and labels\n",
    "plt.figure(figsize=(10, 8))\n",
    "for i, (query, color) in enumerate(zip(queries, colors)):\n",
    "    plt.scatter(reduced_embeddings[i:i+1, 0], reduced_embeddings[i:i+1, 1], label=query, c=color)\n",
    "\n",
    "# Add labels and title\n",
    "plt.title('UMAP Visualization of Text Embeddings')\n",
    "plt.xlabel('UMAP Dimension 1')\n",
    "plt.ylabel('UMAP Dimension 2')\n",
    "plt.legend()\n",
    "\n",
    "# Add annotations (text labels) next to points\n",
    "for i, txt in enumerate(queries):\n",
    "    plt.annotate(txt, (reduced_embeddings[i, 0], reduced_embeddings[i, 1]), \n",
    "                xytext=(5, 5), textcoords='offset points')\n",
    "\n",
    "plt.grid(True)\n",
    "plt.show()\n",
    "\n"
   ]
  },
  {
   "cell_type": "code",
   "execution_count": null,
   "id": "5f2a3306-7e39-404d-be32-c4b947167703",
   "metadata": {},
   "outputs": [],
   "source": []
  }
 ],
 "metadata": {
  "kernelspec": {
   "display_name": "Python 3 (ipykernel)",
   "language": "python",
   "name": "python3"
  },
  "language_info": {
   "codemirror_mode": {
    "name": "ipython",
    "version": 3
   },
   "file_extension": ".py",
   "mimetype": "text/x-python",
   "name": "python",
   "nbconvert_exporter": "python",
   "pygments_lexer": "ipython3",
   "version": "3.12.8"
  }
 },
 "nbformat": 4,
 "nbformat_minor": 5
}
