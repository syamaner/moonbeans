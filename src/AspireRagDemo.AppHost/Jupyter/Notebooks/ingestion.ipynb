{
 "cells": [
  {
   "cell_type": "code",
   "execution_count": 1,
   "id": "4950258f-1d22-49ac-822e-8022e29bba92",
   "metadata": {},
   "outputs": [
    {
     "name": "stderr",
     "output_type": "stream",
     "text": [
      "WARNING:opentelemetry.instrumentation.instrumentor:Attempting to instrument while already instrumented\n"
     ]
    }
   ],
   "source": [
    "# This notebook is  used to evaluate perofrmance of our RAG ingestion and query pipeline.\n",
    "# Method:\n",
    "#   - Generated test data using a sample GitHub repository (offline process not in this notebook)\n",
    "#     - https://docs.ragas.io/en/stable/getstarted/rag_testset_generation/\n",
    "#   - Use our ingestion pipeline to parse the same reporisiroty and index in our vector store\n",
    "#   - Use RAGAS on teadt dataset + our answers fromn our RAG and visualise the mterics.\n",
    "import os\n",
    "import sys\n",
    "import pandas as pd\n",
    "\n",
    "sys.path.insert(1, '/home/jovyan/work/code')\n",
    "from config import VectorDBConfig, EmbeddingConfig, ProcessingConfig, ChatConfig\n",
    "from config_helper import ConfigHelper\n",
    "from pipeline import DocumentPipeline\n",
    "from localrag import LocalRAG\n",
    "\n",
    "from TraceSetup import get_tracer, get_logger\n",
    "logger = get_logger()\n",
    "tracer = get_tracer()\n",
    "\n",
    "config_helper = ConfigHelper(False)"
   ]
  },
  {
   "cell_type": "code",
   "execution_count": 2,
   "id": "d757e336-7b98-44af-ae16-716b15d446bc",
   "metadata": {},
   "outputs": [
    {
     "name": "stderr",
     "output_type": "stream",
     "text": [
      "/home/jovyan/work/code/pipeline.py:38: UserWarning: Api key is used with an insecure connection.\n",
      "  self.qdrant = QdrantClient(url=vector_db_config.url, api_key=vector_db_config.api_key)\n",
      "INFO:TraceSetup:collection: llamaball-minilmm vector size: 384\n",
      "INFO:TraceSetup:Collection llamaball-minilmm does not exist. Will create now. Vector size is 384\n",
      "INFO:TraceSetup:Created collection: llamaball-minilmm\n",
      "INFO:TraceSetup:Starting repository chunking...\n",
      "INFO:TraceSetup:Created chunking strategies\n",
      "INFO:TraceSetup:Split content into 181 files\n",
      "INFO:TraceSetup:Total chunks created: 3342\n"
     ]
    },
    {
     "name": "stdout",
     "output_type": "stream",
     "text": [
      "Total parts found: 363\n",
      "Total files processed: 181\n",
      "Sample file paths:\n",
      " 1. README.md\n",
      " 2. CODE_OF_CONDUCT.md\n",
      " 3. SECURITY.md\n",
      "Added 50 chunks for file docs/reference/aspire-faq.yml\n"
     ]
    },
    {
     "name": "stderr",
     "output_type": "stream",
     "text": [
      "INFO:TraceSetup:done processing the repository.\n"
     ]
    },
    {
     "name": "stdout",
     "output_type": "stream",
     "text": [
      "done processing the repository.\n"
     ]
    }
   ],
   "source": [
    "# Ingest a GitHub repository and import into our vector store\n",
    "\n",
    "# Initialize the pipeline\n",
    "pipeline = DocumentPipeline(\n",
    "    vector_db_config=config_helper.vector_db_config,\n",
    "    embedding_config=config_helper.embedding_config,\n",
    "    logger=logger,\n",
    "    tracer=tracer)\n",
    "\n",
    "local_ingestion_file=\"dotnet-docs-aspire.txt\"\n",
    "repository=\"https://github.com/dotnet/docs-aspire\"\n",
    "with tracer.start_as_current_span(f\"Starting ingesting {repository} using local ingestion file {local_ingestion_file}\"):\n",
    "    pipeline.process_single_file(local_ingestion_file,repository)\n"
   ]
  },
  {
   "cell_type": "code",
   "execution_count": 3,
   "id": "6855ef1f-7eca-4c4b-897d-e00d786b8c2e",
   "metadata": {},
   "outputs": [
    {
     "name": "stdout",
     "output_type": "stream",
     "text": [
      "Question: If I use Docker Compose, why should I care about .Net Aspire?\n",
      "\n",
      "Generated Answer:\n"
     ]
    },
    {
     "name": "stderr",
     "output_type": "stream",
     "text": [
      "/home/jovyan/work/code/localrag.py:42: UserWarning: Api key is used with an insecure connection.\n",
      "  self.qdrant = QdrantClient(url=vector_db_config.url, api_key=vector_db_config.api_key)\n"
     ]
    },
    {
     "name": "stdout",
     "output_type": "stream",
     "text": [
      "If you are using Docker Compose to orchestrate your projects and executables, here's why you might want to consider using .NET Aspire instead:\n",
      "\n",
      "1. **Easier app composition**: While Docker Compose is great for managing individual containers, it can make it more difficult to specify the exact components of your application. .NET Aspire provides a unified way to compose applications across multiple services, making it easier to manage dependencies and orchestrate complex systems.\n",
      "\n",
      "2. **Improved service discovery**: .NET Aspire allows you to inject connection strings, network configurations, and other necessary information for your services into your host application, simplifying the process of managing connections between services. This is particularly useful when working with cloud-based applications that require configuration files or environment variables.\n",
      "\n",
      "3. **Better support for multi-language development**: While Docker Compose has some limitations in terms of language support (it only supports .NET Core 3.x and later), .NET Aspire is designed to be extensible across multiple languages, including C#, F# and others. This makes it easier to develop applications that require different languages or frameworks.\n",
      "\n",
      "4. **Enhanced debugging capabilities**: .NET Aspire provides better debugging tools than Docker Compose, with features like source map generation, code navigation, and more. This makes it easier to identify issues in your application and debug changes.\n",
      "\n",
      "5. **Integration with other cloud-native tools**: .NET Aspire is designed to work seamlessly with other cloud-native tools and services, such as Kubernetes, Azure Functions, and AWS Lambda. It provides a unified way to manage these components, making it easier to integrate them into complex applications.\n",
      "\n",
      "6. **Simplified development experience**: By using .NET Aspire, you can simplify your development experience by providing a consistent architecture for your application across multiple languages and frameworks. This makes it easier to develop, test, and deploy large-scale applications with minimal changes.\n",
      "\n",
      "In summary, while Docker Compose is a great tool for managing containerized applications, .NET Aspire provides additional features and capabilities that make it more suitable for larger, more complex applications or those requiring multi-language development.\n",
      "\n",
      "================================================================================\n",
      "\n",
      "Question: Is .Net Aspire an alternative to Kubernetes?\n",
      "\n",
      "Generated Answer:\n",
      "Based on the provided context, .NET Aspire is not directly stated as an alternative to Kubernetes. However, it can be inferred that Kubernetes and .NET Aspire are closely related, with Kubernetes being a technology that orchestrates and manages containers across multiple machines.\n",
      "\n",
      "The text mentions that Kubernetes is a deployment target for .NET Aspire projects, suggesting that they share some common goals and purposes. Additionally, the mention of deployment to Kubernetes clusters implies that .NET Aspire projects can benefit from the capabilities and features offered by Kubernetes.\n",
      "\n",
      "While it's not explicitly stated as an alternative, one can assume that .NET Aspire is designed to work alongside or complement Kubernetes in certain scenarios. The text also highlights the benefits of developing cloud-native applications locally with .NET Aspire, which may indicate that users have already chosen a Kubernetes-based infrastructure for their production environments.\n",
      "\n",
      "In summary, while .NET Aspire and Kubernetes are not direct alternatives, they share common goals and can benefit from each other's capabilities in certain contexts.\n",
      "\n",
      "================================================================================\n",
      "\n"
     ]
    }
   ],
   "source": [
    "# Test our RAG Solution\n",
    "\n",
    "def demonstrate_local_rag(rag):\n",
    "    \"\"\"Demonstrate how to use the LocalRAG class.\"\"\"    \n",
    "    # Example questions to test\n",
    "    questions = [\n",
    "        \"If I use Docker Compose, why should I care about .Net Aspire?\",\n",
    "        \"Is .Net Aspire an alternative to Kubernetes?\"\n",
    "    ]\n",
    "    with tracer.start_as_current_span(\"Entering questions loop.\"):\n",
    "        for question in questions:\n",
    "            print(f\"Question: {question}\")\n",
    "            # print(\"\\nRelevant chunks:\")\n",
    "            # with tracer.start_as_current_span(\"rag get chunks\"):\n",
    "            #     chunks = rag.get_relevant_chunks(question, k=5)\n",
    "            #     for i, chunk in enumerate(chunks, 1):\n",
    "            #         print(chunk)\n",
    "            #         break\n",
    "#                    print(f\"\\nChunk {i}:\")\n",
    "#                    print(f\"Source: {chunk.metadata.get('file_path', 'Unknown')}\")\n",
    "#                    print(f\"Content: {chunk.page_content[:200]}...\")\n",
    "                    \n",
    "            print(\"\\nGenerated Answer:\")\n",
    "            with tracer.start_as_current_span(\"Retrieve answers.\"):\n",
    "                answer = rag.retrieve_and_answer(question, k=10)\n",
    "                print(answer)\n",
    "                print(\"\\n\" + \"=\"*80 + \"\\n\")\n",
    "\n",
    "rag = LocalRAG(\n",
    "    vector_db_config=config_helper.vector_db_config,\n",
    "    embedding_config=config_helper.embedding_config, \n",
    "    chat_config=config_helper.chat_config\n",
    ")\n",
    "with tracer.start_as_current_span(\"Starting demo\"):\n",
    "    demonstrate_local_rag(rag)"
   ]
  },
  {
   "cell_type": "code",
   "execution_count": null,
   "id": "7e03d601-a3d6-4de9-80c9-6109d86594a6",
   "metadata": {},
   "outputs": [],
   "source": []
  }
 ],
 "metadata": {
  "kernelspec": {
   "display_name": "Python 3 (ipykernel)",
   "language": "python",
   "name": "python3"
  },
  "language_info": {
   "codemirror_mode": {
    "name": "ipython",
    "version": 3
   },
   "file_extension": ".py",
   "mimetype": "text/x-python",
   "name": "python",
   "nbconvert_exporter": "python",
   "pygments_lexer": "ipython3",
   "version": "3.12.8"
  }
 },
 "nbformat": 4,
 "nbformat_minor": 5
}
