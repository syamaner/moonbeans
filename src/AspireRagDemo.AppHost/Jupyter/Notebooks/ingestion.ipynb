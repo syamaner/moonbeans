{
 "cells": [
  {
   "cell_type": "code",
   "execution_count": 1,
   "id": "4950258f-1d22-49ac-822e-8022e29bba92",
   "metadata": {},
   "outputs": [
    {
     "name": "stderr",
     "output_type": "stream",
     "text": [
      "WARNING:opentelemetry.instrumentation.instrumentor:Attempting to instrument while already instrumented\n"
     ]
    }
   ],
   "source": [
    "# This notebook is  used to evaluate perofrmance of our RAG ingestion and query pipeline.\n",
    "# Method:\n",
    "#   - Generated test data using a sample GitHub repository (offline process not in this notebook)\n",
    "#     - https://docs.ragas.io/en/stable/getstarted/rag_testset_generation/\n",
    "#   - Use our ingestion pipeline to parse the same reporisiroty and index in our vector store\n",
    "#   - Use RAGAS on teadt dataset + our answers fromn our RAG and visualise the mterics.\n",
    "import os\n",
    "import sys\n",
    "import pandas as pd\n",
    "\n",
    "sys.path.insert(1, '/home/jovyan/work/code')\n",
    "from config import VectorDBConfig, EmbeddingConfig, ProcessingConfig, ChatConfig\n",
    "from config_helper import ConfigHelper\n",
    "from pipeline import DocumentPipeline\n",
    "from localrag import LocalRAG\n",
    "\n",
    "from TraceSetup import get_tracer, get_logger\n",
    "logger = get_logger()\n",
    "tracer = get_tracer()\n",
    "\n",
    "config_helper = ConfigHelper(False)"
   ]
  },
  {
   "cell_type": "code",
   "execution_count": null,
   "id": "d757e336-7b98-44af-ae16-716b15d446bc",
   "metadata": {},
   "outputs": [],
   "source": [
    "# Ingest a GitHub repository and import into our vector store\n",
    "\n",
    "# Initialize the pipeline\n",
    "pipeline = DocumentPipeline(\n",
    "    vector_db_config=config_helper.vector_db_config,\n",
    "    embedding_config=config_helper.embedding_config,\n",
    "    logger=logger,\n",
    "    tracer=tracer)\n",
    "\n",
    "local_ingestion_file=\"dotnet-docs-aspire.txt\"\n",
    "repository=\"https://github.com/dotnet/docs-aspire\"\n",
    "with tracer.start_as_current_span(f\"Starting ingesting {repository} using local ingestion file {local_ingestion_file}\"):\n",
    "    pipeline.process_single_file(local_ingestion_file,repository)\n"
   ]
  },
  {
   "cell_type": "code",
   "execution_count": 2,
   "id": "6855ef1f-7eca-4c4b-897d-e00d786b8c2e",
   "metadata": {},
   "outputs": [
    {
     "name": "stderr",
     "output_type": "stream",
     "text": [
      "/home/jovyan/work/code/localrag.py:43: UserWarning: Api key is used with an insecure connection.\n",
      "  self.qdrant = QdrantClient(url=vector_db_config.url, api_key=vector_db_config.api_key)\n"
     ]
    },
    {
     "name": "stdout",
     "output_type": "stream",
     "text": [
      "Question: If I use Docker Compose, why should I care about .Net Aspire?\n",
      "\n",
      "Generated Answer:\n",
      "Using `.NET Aspire` offers several advantages over relying solely on `Docker Compose`, particularly in terms of development experience and orchestration capabilities. Here are the reasons:\n",
      "\n",
      "1. **Developer Experience** - Unlike Docker Compose, which may become complex with abstractions or composition tasks (refer to eshopOnContainers), `.NET Aspire` is designed for ease-of-use without requiring additional learning beyond what you already know about .NET development and containerization (`Docker Desktop/Podman`). The declarative code used in `.NET Aspire`, as opposed to YAML files, can lead to a more intuitive configuration process with better readability when handling environment variables (replacements) and includes no types or IntelliSense by default for easier understanding of the running application components (`Debugging difficulties`).\n",
      "\n",
      "2. **Containerization** - `.NET Aspire` projects are explicitly containerized, allowing developers to leverage any OCI-compliant runtime such as Docker Desktop or Podman without additional configuration efforts (defaulting using your installed environment), while `Docker Compose` may not provide the same level of seamless integration with .NET development paradigms.\n",
      "\n",
      "3. **Deployment and Orchestration** - `.NET Aspire`'s manifest format enables artifact generation for deployments to Kubernetes, offering orchestration beyond your local environment (`deployment target`). In contrast, `Docker Compose` is limited when managing the deployment of multiple projects or executables as a whole.\n",
      "\n",
      "4. **Scalability and Flexibility** - By using `.NET Aspire`, you can develop distributed applications that are deployable to cloud services like Azure Container Apps (`deployment capability`) with scalability, providing more modern options for orchestration compared to `Docker Compose`. \n",
      "\n",
      "In summary, if your needs extend beyond local development and involve building a robust multi-project or enterprise system capable of scaled deployment using Kubernetes as an end target—`, .NET Aspire` is generally the preferred choice. It aligns with current industry practices for containerized microservices by providing not only ease in configuration but also scalable orchestration out of the box, setting a foundation that was previously more challenging to achieve solely through `Docker Compose`.\n",
      "\n",
      "================================================================================\n",
      "\n",
      "Question: Is .Net Aspire an alternative to Kubernetes?\n",
      "\n",
      "Generated Answer:\n",
      "I cannot find a direct answer stating that .NET Aspire is or isn't an alternative to Kubernetes based solely on the provided context. However, it can be inferred from the text that while .NET Aspire and tools like Docker Compose are used for orchestrating containers (including in environments managed by platforms such as Kubernetes), they serve different purposes with distinct features:\n",
      "\n",
      "- **Orchestration Philosophy**: The provided context suggests that both technologies facilitate container orchestration but emphasizes .NET Aspire's alignment and opinionated integration around cloud resources, whereas the specific mechanics of how Docker Compose works are not mentioned in relation to Kubernetes. This could imply differences beyond just being an alternative deployment tool (e.g., native support for certain ecosystem elements or additional features).\n",
      "  \n",
      "- **Deployment Context**: The context discusses .NET Aspire's capability of deploying apps across various platforms and its adaptations to different environments, which hints at broader versatility compared with Docker Compose. This suggests that while you might use these tools together (e.g., generating Kubernetes manifest files from a tool like Aspir8), they are not strictly alternative for deployment as each may offer unique value propositions depending on the needs of developers or organizations.\n",
      "  \n",
      "- **Complementary Nature**: The fact that there is mentioning about using Dapr in conjunction with .NET Aspire implies an integration rather than a direct replacement, which further suggests complementarity between tools instead of equivalence (alternatives). Moreover, since the context discusses adaptations to Kubernetes and Azure Container Apps specifically within or alongside these technologies.\n",
      "  \n",
      "- **Opinionated Stack vs Abstraction**: Lastly, while Dapr abstracts some underlying platforms as mentioned in .NET Aspire's section about it not restricting compatibility with other tools/services (a characteristic often sought after when considering alternatives), Kubernetes does provide a platform that is more focused and integrated into cloud-native ecosystem management.\n",
      "  \n",
      "In summary, the context provided doesn’t directly compare or contrast .NET Aspire as an alternative to Kubernetes but instead describes how they can complement each other in certain scenarios—implying there might be specific use cases where one could potentially replace aspects of another's functionality while suggesting a multidimensional tech stack rather than proposing outright alternatives.\n",
      "\n",
      "\n",
      "\n",
      "================================================================================\n",
      "\n"
     ]
    }
   ],
   "source": [
    "# Test our RAG Solution\n",
    "\n",
    "def demonstrate_local_rag(rag):\n",
    "    \"\"\"Demonstrate how to use the LocalRAG class.\"\"\"    \n",
    "    # Example questions to test\n",
    "    questions = [\n",
    "        \"If I use Docker Compose, why should I care about .Net Aspire?\",\n",
    "        \"Is .Net Aspire an alternative to Kubernetes?\"\n",
    "    ]\n",
    "    with tracer.start_as_current_span(\"Entering questions loop.\"):\n",
    "        for question in questions:\n",
    "            print(f\"Question: {question}\")\n",
    "            # print(\"\\nRelevant chunks:\")\n",
    "            # with tracer.start_as_current_span(\"rag get chunks\"):\n",
    "            #     chunks = rag.get_relevant_chunks(question, k=5)\n",
    "            #     for i, chunk in enumerate(chunks, 1):\n",
    "            #         print(chunk)\n",
    "            #         break\n",
    "#                    print(f\"\\nChunk {i}:\")\n",
    "#                    print(f\"Source: {chunk.metadata.get('file_path', 'Unknown')}\")\n",
    "#                    print(f\"Content: {chunk.page_content[:200]}...\")\n",
    "                    \n",
    "            print(\"\\nGenerated Answer:\")\n",
    "            with tracer.start_as_current_span(\"Retrieve answers.\"):\n",
    "                answer = rag.retrieve_and_answer(question, k=10)\n",
    "                print(answer)\n",
    "                print(\"\\n\" + \"=\"*80 + \"\\n\")\n",
    "\n",
    "rag = LocalRAG(\n",
    "    vector_db_config=config_helper.vector_db_config,\n",
    "    embedding_config=config_helper.embedding_config, \n",
    "    chat_config=config_helper.chat_config,\n",
    "    logger=logger,\n",
    "    tracer=tracer)\n",
    "\n",
    "with tracer.start_as_current_span(\"Starting demo\"):\n",
    "    demonstrate_local_rag(rag)"
   ]
  },
  {
   "cell_type": "code",
   "execution_count": null,
   "id": "7e03d601-a3d6-4de9-80c9-6109d86594a6",
   "metadata": {},
   "outputs": [],
   "source": []
  }
 ],
 "metadata": {
  "kernelspec": {
   "display_name": "Python 3 (ipykernel)",
   "language": "python",
   "name": "python3"
  },
  "language_info": {
   "codemirror_mode": {
    "name": "ipython",
    "version": 3
   },
   "file_extension": ".py",
   "mimetype": "text/x-python",
   "name": "python",
   "nbconvert_exporter": "python",
   "pygments_lexer": "ipython3",
   "version": "3.12.8"
  }
 },
 "nbformat": 4,
 "nbformat_minor": 5
}
