{
 "cells": [
  {
   "cell_type": "code",
   "execution_count": 1,
   "id": "4950258f-1d22-49ac-822e-8022e29bba92",
   "metadata": {},
   "outputs": [
    {
     "name": "stderr",
     "output_type": "stream",
     "text": [
      "WARNING:opentelemetry.instrumentation.instrumentor:Attempting to instrument while already instrumented\n"
     ]
    }
   ],
   "source": [
    "# This notebook is  used to evaluate perofrmance of our RAG ingestion and query pipeline.\n",
    "# Method:\n",
    "#   - Generated test data using a sample GitHub repository (offline process not in this notebook)\n",
    "#     - https://docs.ragas.io/en/stable/getstarted/rag_testset_generation/\n",
    "#   - Use our ingestion pipeline to parse the same reporisiroty and index in our vector store\n",
    "#   - Use RAGAS on teadt dataset + our answers fromn our RAG and visualise the mterics.\n",
    "import os\n",
    "import sys\n",
    "import pandas as pd\n",
    "\n",
    "sys.path.insert(1, '/home/jovyan/work/code')\n",
    "from config import VectorDBConfig, EmbeddingConfig, ProcessingConfig, ChatConfig\n",
    "from config_helper import ConfigHelper\n",
    "from pipeline import DocumentPipeline\n",
    "from localrag import LocalRAG\n",
    "\n",
    "from TraceSetup import get_tracer, get_logger\n",
    "logger = get_logger()\n",
    "tracer = get_tracer()\n",
    "\n",
    "config_helper = ConfigHelper(False)"
   ]
  },
  {
   "cell_type": "code",
   "execution_count": 2,
   "id": "d757e336-7b98-44af-ae16-716b15d446bc",
   "metadata": {},
   "outputs": [
    {
     "name": "stderr",
     "output_type": "stream",
     "text": [
      "/home/jovyan/work/code/pipeline.py:38: UserWarning: Api key is used with an insecure connection.\n",
      "  self.qdrant = QdrantClient(url=vector_db_config.url, api_key=vector_db_config.api_key)\n",
      "INFO:TraceSetup:collection: mistralmxbai-embed-large vector size: 1024\n",
      "INFO:TraceSetup:Collection mistralmxbai-embed-large does not exist. Will create now. Vector size is 1024\n",
      "INFO:TraceSetup:Created collection: mistralmxbai-embed-large\n",
      "INFO:TraceSetup:Starting repository chunking...\n",
      "INFO:TraceSetup:Created chunking strategies\n",
      "INFO:TraceSetup:Split content into 181 files\n",
      "INFO:TraceSetup:Total chunks created: 3342\n"
     ]
    },
    {
     "name": "stdout",
     "output_type": "stream",
     "text": [
      "Total parts found: 363\n",
      "Total files processed: 181\n",
      "Sample file paths:\n",
      " 1. README.md\n",
      " 2. CODE_OF_CONDUCT.md\n",
      " 3. SECURITY.md\n",
      "Added 50 chunks for file docs/reference/aspire-faq.yml\n"
     ]
    },
    {
     "name": "stderr",
     "output_type": "stream",
     "text": [
      "INFO:TraceSetup:done processing the repository.\n"
     ]
    },
    {
     "name": "stdout",
     "output_type": "stream",
     "text": [
      "done processing the repository.\n"
     ]
    }
   ],
   "source": [
    "# Ingest a GitHub repository and import into our vector store\n",
    "\n",
    "# Initialize the pipeline\n",
    "pipeline = DocumentPipeline(\n",
    "    vector_db_config=config_helper.vector_db_config,\n",
    "    embedding_config=config_helper.embedding_config,\n",
    "    logger=logger,\n",
    "    tracer=tracer)\n",
    "\n",
    "local_ingestion_file=\"dotnet-docs-aspire.txt\"\n",
    "repository=\"https://github.com/dotnet/docs-aspire\"\n",
    "with tracer.start_as_current_span(f\"Starting ingesting {repository} using local ingestion file {local_ingestion_file}\"):\n",
    "    pipeline.process_single_file(local_ingestion_file,repository)\n"
   ]
  },
  {
   "cell_type": "code",
   "execution_count": 3,
   "id": "6855ef1f-7eca-4c4b-897d-e00d786b8c2e",
   "metadata": {},
   "outputs": [
    {
     "name": "stdout",
     "output_type": "stream",
     "text": [
      "Question: If I use Docker Compose, why should I care about .Net Aspire?\n",
      "\n",
      "Generated Answer:\n"
     ]
    },
    {
     "name": "stderr",
     "output_type": "stream",
     "text": [
      "/home/jovyan/work/code/localrag.py:43: UserWarning: Api key is used with an insecure connection.\n",
      "  self.qdrant = QdrantClient(url=vector_db_config.url, api_key=vector_db_config.api_key)\n"
     ]
    },
    {
     "name": "stdout",
     "output_type": "stream",
     "text": [
      " .NET Aspire is designed to simplify the process of running and managing multi-container applications without the need for learning additional tools like Docker Compose. Unlike Docker Compose which requires YAML configuration, .NET Aspire uses declarative code written in a real programming language (C#), making it easier to reason about and debug your application.\n",
      "\n",
      "   In addition, .NET Aspire projects are designed to run in containers and can use any OCI-compliant container runtime like Docker Desktop or Podman. This allows for better compatibility with various development environments. Furthermore, .NET Aspire provides a better developer experience by offering features like IntelliSense and environment variable replacements directly within your IDE.\n",
      "\n",
      "   However, it's important to note that if you are already comfortable using Docker Compose and prefer its workflow, there is no requirement to switch to .NET Aspire. The choice between the two ultimately depends on your personal preference and the specific needs of your project.\n",
      "\n",
      "  For more information about setting up .NET Aspire, please refer to the provided context under the \"Frequently asked questions\" section.\n",
      "\n",
      "================================================================================\n",
      "\n",
      "Question: Is .Net Aspire an alternative to Kubernetes?\n",
      "\n",
      "Generated Answer:\n",
      " No, .NET Aspire is not an alternative to Kubernetes. While .NET Aspire can deploy applications on Kubernetes clusters and provides service discovery and other development-oriented features, it's designed primarily for local development environments. In contrast, Kubernetes is a production-grade container orchestration platform that excels in managing containers across multiple machines.\n",
      "\n",
      "================================================================================\n",
      "\n"
     ]
    }
   ],
   "source": [
    "# Test our RAG Solution\n",
    "\n",
    "def demonstrate_local_rag(rag):\n",
    "    \"\"\"Demonstrate how to use the LocalRAG class.\"\"\"    \n",
    "    # Example questions to test\n",
    "    questions = [\n",
    "        \"If I use Docker Compose, why should I care about .Net Aspire?\",\n",
    "        \"Is .Net Aspire an alternative to Kubernetes?\"\n",
    "    ]\n",
    "    with tracer.start_as_current_span(\"Entering questions loop.\"):\n",
    "        for question in questions:\n",
    "            print(f\"Question: {question}\")\n",
    "            # print(\"\\nRelevant chunks:\")\n",
    "            # with tracer.start_as_current_span(\"rag get chunks\"):\n",
    "            #     chunks = rag.get_relevant_chunks(question, k=5)\n",
    "            #     for i, chunk in enumerate(chunks, 1):\n",
    "            #         print(chunk)\n",
    "            #         break\n",
    "#                    print(f\"\\nChunk {i}:\")\n",
    "#                    print(f\"Source: {chunk.metadata.get('file_path', 'Unknown')}\")\n",
    "#                    print(f\"Content: {chunk.page_content[:200]}...\")\n",
    "                    \n",
    "            print(\"\\nGenerated Answer:\")\n",
    "            with tracer.start_as_current_span(\"Retrieve answers.\"):\n",
    "                answer = rag.retrieve_and_answer(question, k=10)\n",
    "                print(answer)\n",
    "                print(\"\\n\" + \"=\"*80 + \"\\n\")\n",
    "\n",
    "rag = LocalRAG(\n",
    "    vector_db_config=config_helper.vector_db_config,\n",
    "    embedding_config=config_helper.embedding_config, \n",
    "    chat_config=config_helper.chat_config,\n",
    "    logger=logger,\n",
    "    tracer=tracer)\n",
    "\n",
    "with tracer.start_as_current_span(\"Starting demo\"):\n",
    "    demonstrate_local_rag(rag)"
   ]
  },
  {
   "cell_type": "code",
   "execution_count": null,
   "id": "7e03d601-a3d6-4de9-80c9-6109d86594a6",
   "metadata": {},
   "outputs": [],
   "source": []
  }
 ],
 "metadata": {
  "kernelspec": {
   "display_name": "Python 3 (ipykernel)",
   "language": "python",
   "name": "python3"
  },
  "language_info": {
   "codemirror_mode": {
    "name": "ipython",
    "version": 3
   },
   "file_extension": ".py",
   "mimetype": "text/x-python",
   "name": "python",
   "nbconvert_exporter": "python",
   "pygments_lexer": "ipython3",
   "version": "3.12.8"
  }
 },
 "nbformat": 4,
 "nbformat_minor": 5
}
