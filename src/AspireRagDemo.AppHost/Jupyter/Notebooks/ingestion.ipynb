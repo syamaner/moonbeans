{
 "cells": [
  {
   "cell_type": "code",
   "execution_count": 1,
   "id": "4950258f-1d22-49ac-822e-8022e29bba92",
   "metadata": {},
   "outputs": [],
   "source": [
    "# This notebook is  used to evaluate perofrmance of our RAG ingestion and query pipeline.\n",
    "# Method:\n",
    "#   - Generated test data using a sample GitHub repository (offline process not in this notebook)\n",
    "#     - https://docs.ragas.io/en/stable/getstarted/rag_testset_generation/\n",
    "#   - Use our ingestion pipeline to parse the same reporisiroty and index in our vector store\n",
    "#   - Use RAGAS on teadt dataset + our answers fromn our RAG and visualise the mterics.\n",
    "import os\n",
    "import sys\n",
    "import pandas as pd\n",
    "\n",
    "sys.path.insert(1, '/home/jovyan/work/code')\n",
    "from config import VectorDBConfig, ModelConfig\n",
    "from config_helper import ConfigHelper\n",
    "from ingestion_pipeline import IngestionPipeline\n",
    "from localrag import LocalRAG\n",
    "\n",
    "from trace_setup import get_tracer, get_logger\n",
    "logger = get_logger()\n",
    "tracer = get_tracer()\n",
    "\n",
    "config_helper = ConfigHelper(False)"
   ]
  },
  {
   "cell_type": "code",
   "execution_count": 2,
   "id": "d757e336-7b98-44af-ae16-716b15d446bc",
   "metadata": {},
   "outputs": [
    {
     "name": "stdout",
     "output_type": "stream",
     "text": [
      "VectorDBConfig(url='http://qdrant:6333', api_key='zCxfEnC2RPCH1r64RPqtnY', collection_name='qwenb-granite-embedding', vector_name='page_content_vector')\n"
     ]
    },
    {
     "name": "stderr",
     "output_type": "stream",
     "text": [
      "/home/jovyan/work/code/ingestion_pipeline.py:31: UserWarning: Api key is used with an insecure connection.\n",
      "  self.qdrant = QdrantClient(url=vector_db_config.url, api_key=vector_db_config.api_key)\n"
     ]
    },
    {
     "name": "stdout",
     "output_type": "stream",
     "text": [
      "Total parts found: 363\n",
      "Total files processed: 181\n",
      "Sample file paths:\n",
      " 1. README.md\n",
      " 2. CODE_OF_CONDUCT.md\n",
      " 3. SECURITY.md\n",
      "Added 50 chunks for file docs/reference/aspire-faq.yml\n",
      "done processing the repository.\n"
     ]
    }
   ],
   "source": [
    "# Ingest a GitHub repository and import into our vector store\n",
    "# print(config_helper.embedding_config)\n",
    "print(config_helper.vector_db_config)\n",
    "# Initialize the pipeline\n",
    "pipeline = IngestionPipeline(\n",
    "    vector_db_config=config_helper.vector_db_config,\n",
    "    embedding_config=config_helper.embedding_config)\n",
    "\n",
    "local_ingestion_file=\"data/dotnet-docs-aspire.txt\"\n",
    "repository=\"https://github.com/dotnet/docs-aspire\"\n",
    "with tracer.start_as_current_span(f\"Starting ingesting {repository} using local ingestion file {local_ingestion_file}\"):\n",
    "    pipeline.process_single_file(local_ingestion_file,repository, True)\n"
   ]
  },
  {
   "cell_type": "code",
   "execution_count": 3,
   "id": "6855ef1f-7eca-4c4b-897d-e00d786b8c2e",
   "metadata": {},
   "outputs": [
    {
     "name": "stdout",
     "output_type": "stream",
     "text": [
      "Question: If I use Docker Compose, why should I care about .Net Aspire?\n",
      "\n",
      "Generated Answer:\n"
     ]
    },
    {
     "name": "stderr",
     "output_type": "stream",
     "text": [
      "/home/jovyan/work/code/localrag.py:31: UserWarning: Api key is used with an insecure connection.\n",
      "  self.qdrant = QdrantClient(url=vector_db_config.url, api_key=vector_db_config.api_key)\n"
     ]
    },
    {
     "name": "stdout",
     "output_type": "stream",
     "text": [
      "If you are using Docker Compose and want to run multiple projects or executables as containers, you might find Docker Compose cumbersome when it comes to managing all of them. Docker Compose requires developers to build container images separately and then run each app inside a container. This can lead to complexity in building, deploying, and debugging your applications.\n",
      "\n",
      "On the other hand, .NET Aspire offers a more straightforward approach by enabling you to run your projects directly in containers without needing to build or orchestrate them manually. It allows you to quickly develop distributed applications that can be orchestrated on your local development environment as executables and containers. This is particularly beneficial when you're trying to manage multiple projects across different environments.\n",
      "\n",
      "Moreover, .NET Aspire supports the creation of OCI compliant containers (such as those supported by Docker or Podman) directly within an IDE or code editor. It leverages the capabilities of the container runtime without requiring YAML files for configuration, which simplifies setup and eliminates the need for environment variable replacements or complex debugging tools.\n",
      "\n",
      "Another advantage is that .NET Aspire aligns well with Kubernetes orchestration, as it can produce manifests suitable for deployment on Kubernetes platforms. This integration makes it easier to scale your applications across multiple machines managed by Kubernetes, ensuring they run efficiently in a distributed environment.\n",
      "\n",
      "In summary, while Docker Compose provides robust container management and orchestration capabilities, .NET Aspire simplifies the process of developing, deploying, and orchestrating multiple projects within containers on both local development environments and in production with Kubernetes.\n",
      "\n",
      "================================================================================\n",
      "\n",
      "Question: Is .Net Aspire an alternative to Kubernetes?\n",
      "\n",
      "Generated Answer:\n",
      ".NET Aspire is not directly equivalent to Kubernetes but it serves as a deployment target for applications that are orchestrated using Kubernetes. Both platforms aim to manage and orchestrate containerized applications across multiple machines, making them suitable choices for different scenarios.\n",
      "\n",
      "To summarize the relationship between .NET Aspire and Kubernetes:\n",
      "- **Kubernetes** is a widely used platform for orchestrating containers on various cloud environments or local clusters.\n",
      "- .NET Aspire projects can produce manifest files that tool authors can use to generate artifacts for deployment to Kubernetes.\n",
      "- Therefore, it is accurate to say that Kubernetes acts as the target environment for deploying applications developed using .NET Aspire.\n",
      "\n",
      "While they both provide similar functionality (orchestrating containers across different environments), .NET Aspire focuses on simplifying the development and deployment process by providing opinionated tools and components. On the other hand, Kubernetes offers a more comprehensive solution covering various cloud platforms through its ecosystem of technologies like Kubernetes itself, Docker Compose, and Dapr.\n",
      "\n",
      "In summary, while both platforms serve as container orchestration tools, .NET Aspire is specifically designed to simplify development tasks related to distributed applications by providing opinionated solutions within the context of the .NET stack. This makes it an alternative choice for organizations that value ease-of-use and flexibility in their application deployment workflows.\n",
      "\n",
      "================================================================================\n",
      "\n"
     ]
    }
   ],
   "source": [
    "# Test our RAG Solution\n",
    "\n",
    "def demonstrate_local_rag(rag):\n",
    "    \"\"\"Demonstrate how to use the LocalRAG class.\"\"\"    \n",
    "    # Example questions to test\n",
    "    questions = [\n",
    "        \"If I use Docker Compose, why should I care about .Net Aspire?\",\n",
    "        \"Is .Net Aspire an alternative to Kubernetes?\"\n",
    "    ]\n",
    "    with tracer.start_as_current_span(\"Entering questions loop.\"):\n",
    "        for question in questions:\n",
    "            print(f\"Question: {question}\")\n",
    "            # print(\"\\nRelevant chunks:\")\n",
    "            # with tracer.start_as_current_span(\"rag get chunks\"):\n",
    "            #     chunks = rag.get_relevant_chunks(question, k=5)\n",
    "            #     for i, chunk in enumerate(chunks, 1):\n",
    "            #         print(chunk)\n",
    "            #         break\n",
    "#                    print(f\"\\nChunk {i}:\")\n",
    "#                    print(f\"Source: {chunk.metadata.get('file_path', 'Unknown')}\")\n",
    "#                    print(f\"Content: {chunk.page_content[:200]}...\")\n",
    "                    \n",
    "            print(\"\\nGenerated Answer:\")\n",
    "            with tracer.start_as_current_span(\"Retrieve answers.\"):\n",
    "                answer = rag.retrieve_and_answer(question, k=10)\n",
    "                print(answer)\n",
    "                print(\"\\n\" + \"=\"*80 + \"\\n\")\n",
    "\n",
    "rag = LocalRAG(\n",
    "    vector_db_config=config_helper.vector_db_config,\n",
    "    embedding_config=config_helper.embedding_config, \n",
    "    chat_config=config_helper.chat_config)\n",
    "\n",
    "with tracer.start_as_current_span(\"Starting demo\"):\n",
    "    demonstrate_local_rag(rag)"
   ]
  },
  {
   "cell_type": "code",
   "execution_count": null,
   "id": "7e03d601-a3d6-4de9-80c9-6109d86594a6",
   "metadata": {},
   "outputs": [],
   "source": []
  }
 ],
 "metadata": {
  "kernelspec": {
   "display_name": "Python 3 (ipykernel)",
   "language": "python",
   "name": "python3"
  },
  "language_info": {
   "codemirror_mode": {
    "name": "ipython",
    "version": 3
   },
   "file_extension": ".py",
   "mimetype": "text/x-python",
   "name": "python",
   "nbconvert_exporter": "python",
   "pygments_lexer": "ipython3",
   "version": "3.12.8"
  }
 },
 "nbformat": 4,
 "nbformat_minor": 5
}
