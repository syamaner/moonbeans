{
 "cells": [
  {
   "cell_type": "code",
   "execution_count": 1,
   "id": "5fb96146-c613-4f66-bdbf-61069d45e573",
   "metadata": {},
   "outputs": [
    {
     "name": "stderr",
     "output_type": "stream",
     "text": [
      "[nltk_data] Downloading package punkt_tab to /home/jovyan/nltk_data...\n",
      "[nltk_data]   Package punkt_tab is already up-to-date!\n",
      "[nltk_data] Downloading package averaged_perceptron_tagger_eng to\n",
      "[nltk_data]     /home/jovyan/nltk_data...\n",
      "[nltk_data]   Package averaged_perceptron_tagger_eng is already up-to-\n",
      "[nltk_data]       date!\n"
     ]
    }
   ],
   "source": [
    "import os\n",
    "import sys\n",
    "import nltk\n",
    "from langchain_community.document_loaders import DirectoryLoader\n",
    "from ragas.llms import LangchainLLMWrapper\n",
    "from ragas.embeddings import LangchainEmbeddingsWrapper\n",
    "from langchain_openai import ChatOpenAI\n",
    "from langchain_openai import OpenAIEmbeddings\n",
    "from ragas.testset import TestsetGenerator\n",
    "import pandas as pd\n",
    "nltk.download('punkt_tab')\n",
    "nltk.download('averaged_perceptron_tagger_eng')\n",
    "sys.path.insert(1, '/home/jovyan/work/code')\n",
    "\n",
    "# injected from Developer Secrets configured in Aspire AppHost\n",
    "openAiKey = os.getenv(\"OPENAI_KEY\")\n",
    "os.environ[\"OPENAI_API_KEY\"] = openAiKey\n",
    "\n",
    "path = \"docs-aspire-eval/\"\n",
    "num_qa_to_generate=50\n",
    "openai_model='gpt-4o'\n",
    "\n",
    "loader = DirectoryLoader(path, glob=\"**/*.md\")\n",
    "docs = loader.load()\n",
    "\n",
    "generator_llm = LangchainLLMWrapper(ChatOpenAI(model=openai_model, temperature=0.1))  \n",
    "generator_embeddings = LangchainEmbeddingsWrapper(OpenAIEmbeddings())\n",
    "generator = TestsetGenerator(llm=generator_llm, embedding_model=generator_embeddings)"
   ]
  },
  {
   "cell_type": "code",
   "execution_count": 2,
   "id": "11bf168f-7301-4ed6-8a26-40a85f35794d",
   "metadata": {},
   "outputs": [
    {
     "data": {
      "application/vnd.jupyter.widget-view+json": {
       "model_id": "60fa192af24b49e5a4e3ddc818ecd1b3",
       "version_major": 2,
       "version_minor": 0
      },
      "text/plain": [
       "Applying HeadlinesExtractor:   0%|          | 0/46 [00:00<?, ?it/s]"
      ]
     },
     "metadata": {},
     "output_type": "display_data"
    },
    {
     "data": {
      "application/vnd.jupyter.widget-view+json": {
       "model_id": "03a72d26d2d747d79e9ba0e7c9a16cb1",
       "version_major": 2,
       "version_minor": 0
      },
      "text/plain": [
       "Applying HeadlineSplitter:   0%|          | 0/51 [00:00<?, ?it/s]"
      ]
     },
     "metadata": {},
     "output_type": "display_data"
    },
    {
     "name": "stderr",
     "output_type": "stream",
     "text": [
      "unable to apply transformation: 'headlines' property not found in this node\n",
      "unable to apply transformation: 'headlines' property not found in this node\n",
      "unable to apply transformation: 'headlines' property not found in this node\n",
      "unable to apply transformation: 'headlines' property not found in this node\n",
      "unable to apply transformation: 'headlines' property not found in this node\n"
     ]
    },
    {
     "data": {
      "application/vnd.jupyter.widget-view+json": {
       "model_id": "ce2325f8ae34403c930478ad87160890",
       "version_major": 2,
       "version_minor": 0
      },
      "text/plain": [
       "Applying SummaryExtractor:   0%|          | 0/56 [00:00<?, ?it/s]"
      ]
     },
     "metadata": {},
     "output_type": "display_data"
    },
    {
     "name": "stderr",
     "output_type": "stream",
     "text": [
      "Property 'summary' already exists in node '2d2eb2'. Skipping!\n",
      "Property 'summary' already exists in node '7d6df8'. Skipping!\n",
      "Property 'summary' already exists in node '2fe860'. Skipping!\n",
      "Property 'summary' already exists in node 'f4c61d'. Skipping!\n",
      "Property 'summary' already exists in node '3c1b4f'. Skipping!\n",
      "Property 'summary' already exists in node '64d7e7'. Skipping!\n",
      "Property 'summary' already exists in node 'bab3ef'. Skipping!\n",
      "Property 'summary' already exists in node 'e24c1a'. Skipping!\n",
      "Property 'summary' already exists in node 'ff630c'. Skipping!\n",
      "Property 'summary' already exists in node '72564c'. Skipping!\n"
     ]
    },
    {
     "data": {
      "application/vnd.jupyter.widget-view+json": {
       "model_id": "346a1547b32f46f9bada507d77e48e57",
       "version_major": 2,
       "version_minor": 0
      },
      "text/plain": [
       "Applying CustomNodeFilter:   0%|          | 0/88 [00:00<?, ?it/s]"
      ]
     },
     "metadata": {},
     "output_type": "display_data"
    },
    {
     "data": {
      "application/vnd.jupyter.widget-view+json": {
       "model_id": "867e39d8b362479d9deff955d60ebb7d",
       "version_major": 2,
       "version_minor": 0
      },
      "text/plain": [
       "Applying [EmbeddingExtractor, ThemesExtractor, NERExtractor]:   0%|          | 0/228 [00:00<?, ?it/s]"
      ]
     },
     "metadata": {},
     "output_type": "display_data"
    },
    {
     "name": "stderr",
     "output_type": "stream",
     "text": [
      "Property 'summary_embedding' already exists in node 'f4c61d'. Skipping!\n",
      "Property 'summary_embedding' already exists in node '2d2eb2'. Skipping!\n",
      "Property 'summary_embedding' already exists in node '2fe860'. Skipping!\n",
      "Property 'summary_embedding' already exists in node '7d6df8'. Skipping!\n",
      "Property 'summary_embedding' already exists in node '64d7e7'. Skipping!\n",
      "Property 'summary_embedding' already exists in node '72564c'. Skipping!\n",
      "Property 'summary_embedding' already exists in node '3c1b4f'. Skipping!\n",
      "Property 'summary_embedding' already exists in node 'bab3ef'. Skipping!\n",
      "Property 'summary_embedding' already exists in node 'e24c1a'. Skipping!\n",
      "Property 'summary_embedding' already exists in node 'ff630c'. Skipping!\n"
     ]
    },
    {
     "data": {
      "application/vnd.jupyter.widget-view+json": {
       "model_id": "ee84378229e64f47b89040b9ba1b1b74",
       "version_major": 2,
       "version_minor": 0
      },
      "text/plain": [
       "Applying [CosineSimilarityBuilder, OverlapScoreBuilder]:   0%|          | 0/2 [00:00<?, ?it/s]"
      ]
     },
     "metadata": {},
     "output_type": "display_data"
    },
    {
     "data": {
      "application/vnd.jupyter.widget-view+json": {
       "model_id": "58f348f666bb44698c98f424adcc9fd5",
       "version_major": 2,
       "version_minor": 0
      },
      "text/plain": [
       "Generating personas:   0%|          | 0/3 [00:00<?, ?it/s]"
      ]
     },
     "metadata": {},
     "output_type": "display_data"
    },
    {
     "data": {
      "application/vnd.jupyter.widget-view+json": {
       "model_id": "0ed41db0271a407bb872e55ba0bb9309",
       "version_major": 2,
       "version_minor": 0
      },
      "text/plain": [
       "Generating Scenarios:   0%|          | 0/3 [00:00<?, ?it/s]"
      ]
     },
     "metadata": {},
     "output_type": "display_data"
    },
    {
     "data": {
      "application/vnd.jupyter.widget-view+json": {
       "model_id": "493dd578fc2e43ad88e542081f6f69b4",
       "version_major": 2,
       "version_minor": 0
      },
      "text/plain": [
       "Generating Samples:   0%|          | 0/51 [00:00<?, ?it/s]"
      ]
     },
     "metadata": {},
     "output_type": "display_data"
    }
   ],
   "source": [
    "dataset = generator.generate_with_langchain_docs(docs, testset_size=num_qa_to_generate)\n",
    "\n"
   ]
  },
  {
   "cell_type": "code",
   "execution_count": 1,
   "id": "e3286041-7bdb-48a3-b32e-edc616ba46b4",
   "metadata": {},
   "outputs": [
    {
     "ename": "NameError",
     "evalue": "name 'dataset' is not defined",
     "output_type": "error",
     "traceback": [
      "\u001b[0;31m---------------------------------------------------------------------------\u001b[0m",
      "\u001b[0;31mNameError\u001b[0m                                 Traceback (most recent call last)",
      "Cell \u001b[0;32mIn[1], line 1\u001b[0m\n\u001b[0;32m----> 1\u001b[0m \u001b[43mdataset\u001b[49m\u001b[38;5;241m.\u001b[39mto_pandas()\n\u001b[1;32m      2\u001b[0m \u001b[38;5;28mtype\u001b[39m(dataset)\n\u001b[1;32m      4\u001b[0m file_name\u001b[38;5;241m=\u001b[39m \u001b[38;5;124mf\u001b[39m\u001b[38;5;124m\"\u001b[39m\u001b[38;5;132;01m{\u001b[39;00mopenai_model\u001b[38;5;132;01m}\u001b[39;00m\u001b[38;5;124m_ReducedAspireDocs_\u001b[39m\u001b[38;5;132;01m{\u001b[39;00mnum_qa_to_generate\u001b[38;5;132;01m}\u001b[39;00m\u001b[38;5;124m\"\u001b[39m\n",
      "\u001b[0;31mNameError\u001b[0m: name 'dataset' is not defined"
     ]
    }
   ],
   "source": [
    "dataset.to_pandas()\n",
    "type(dataset)\n",
    "\n",
    "file_name= f\"{openai_model}_ReducedAspireDocs_{num_qa_to_generate}\"\n",
    "\n",
    "df = dataset.to_pandas()\n",
    "df.to_pickle(f\"{file_name}.pkl\")\n",
    "df.to_csv(f\"{file_name}.csv\")\n",
    "\n",
    "df1 =  pd.read_pickle(f\"{file_name}.pkl\")\n",
    "df1\n"
   ]
  },
  {
   "cell_type": "code",
   "execution_count": 5,
   "id": "48756cdc-d3de-4b99-a941-1f0106ba7e0e",
   "metadata": {},
   "outputs": [],
   "source": [
    "# Run our pipeline and ingest \n"
   ]
  },
  {
   "cell_type": "code",
   "execution_count": null,
   "id": "14a13f49-8ece-4500-b2cc-6118f93d0723",
   "metadata": {},
   "outputs": [],
   "source": []
  }
 ],
 "metadata": {
  "kernelspec": {
   "display_name": "Python 3 (ipykernel)",
   "language": "python",
   "name": "python3"
  },
  "language_info": {
   "codemirror_mode": {
    "name": "ipython",
    "version": 3
   },
   "file_extension": ".py",
   "mimetype": "text/x-python",
   "name": "python",
   "nbconvert_exporter": "python",
   "pygments_lexer": "ipython3",
   "version": "3.12.8"
  }
 },
 "nbformat": 4,
 "nbformat_minor": 5
}
