{
 "cells": [
  {
   "cell_type": "code",
   "execution_count": 1,
   "id": "5fb96146-c613-4f66-bdbf-61069d45e573",
   "metadata": {
    "editable": true,
    "slideshow": {
     "slide_type": ""
    },
    "tags": []
   },
   "outputs": [
    {
     "name": "stdout",
     "output_type": "stream",
     "text": [
      "Total 165 documents loaded and randomised.\n"
     ]
    }
   ],
   "source": [
    "import os\n",
    "import sys\n",
    "import nltk\n",
    "import random\n",
    "from langchain_community.document_loaders import DirectoryLoader\n",
    "from ragas.llms import LangchainLLMWrapper\n",
    "from ragas.embeddings import LangchainEmbeddingsWrapper\n",
    "from ragas.testset.persona import Persona\n",
    "from langchain.schema import Document\n",
    "from langchain_openai import ChatOpenAI\n",
    "from langchain_openai import OpenAIEmbeddings\n",
    "from ragas.testset import TestsetGenerator\n",
    "import pandas as pd\n",
    "\n",
    "sys.path.insert(1, '/home/jovyan/work/code')\n",
    "\n",
    "path = \"docs-aspire/\"\n",
    "num_qa_to_generate=10\n",
    "openai_model='gpt-4o' #\n",
    "inspect_docs = False\n",
    "shuffle_docs = True\n",
    "\n",
    "md_loader = DirectoryLoader(path, glob=\"**/*.md\")\n",
    "yml_loader = DirectoryLoader(path, glob=\"**/*.yml\")\n",
    "\n",
    "docs = md_loader.load() + yml_loader.load()\n",
    "if len(docs) > 0 and inspect_docs is True:\n",
    "    print(\"Sample document structure:\")\n",
    "    print(f\"Type: {type(docs[0])}\")\n",
    "    print(f\"Available attributes: {dir(docs[0])}\")\n",
    "    print(f\"Content preview: {docs[0].page_content[:20]}\")\n",
    "    print(f\"Metadata: {docs[0].metadata}\")\n",
    "\n",
    "if shuffle_docs:\n",
    "    random.shuffle(docs)\n",
    "    \n",
    "    print(f\"Total {len(docs)} documents loaded and randomised.\")\n",
    "\n",
    "processed_docs = []\n",
    "for doc in docs:\n",
    "    # Create a new document with headlines if they don't exist\n",
    "    metadata = doc.metadata.copy()\n",
    "    if 'headlines' not in metadata:\n",
    "        metadata['headlines'] = []  # or extract headlines from content if needed\n",
    "        #print(f\"No headlines: {doc.metadata}\")\n",
    "    processed_docs.append(Document(page_content=doc.page_content, metadata=metadata))\n",
    "\n"
   ]
  },
  {
   "cell_type": "code",
   "execution_count": 4,
   "id": "ec730739-92c4-444e-882b-b163b1a5aed4",
   "metadata": {},
   "outputs": [],
   "source": [
    "#https://docs.ragas.io/en/stable/howtos/customizations/testgenerator/_persona_generator/#personas-in-testset-generation\n",
    "\n",
    "personas = [\n",
    "    Persona(\n",
    "        name=\"Technical Analyst\",\n",
    "        role_description=\"Focuses on detailed system specifications and API documentation\"\n",
    "    ),\n",
    "    Persona(\n",
    "        name=\"Novice User\",\n",
    "        role_description=\"Asks simple questions using layman terms and basic functionality\"\n",
    "    ),\n",
    "    Persona(\n",
    "        name=\"Security Auditor\",\n",
    "        role_description=\"Focuses on compliance, data protection, and access control aspects\"\n",
    "    ),\n",
    "    Persona(\n",
    "        name=\"Docker expert\",\n",
    "        role_description=\"Has in depth experience with Docker and DSocker compose and expert at cloud native concepts\"\n",
    "    )\n",
    "]\n",
    "\n",
    "generator_llm = LangchainLLMWrapper(ChatOpenAI(model=openai_model, temperature=0.1))  \n",
    "generator_embeddings = LangchainEmbeddingsWrapper(OpenAIEmbeddings())\n",
    "generator = TestsetGenerator(\n",
    "    llm=generator_llm,\n",
    "    embedding_model=generator_embeddings,\n",
    "    persona_list=personas\n",
    ")"
   ]
  },
  {
   "cell_type": "code",
   "execution_count": 9,
   "id": "11bf168f-7301-4ed6-8a26-40a85f35794d",
   "metadata": {},
   "outputs": [
    {
     "data": {
      "application/vnd.jupyter.widget-view+json": {
       "model_id": "7032edc1c3a84c03b04eac2d825575c9",
       "version_major": 2,
       "version_minor": 0
      },
      "text/plain": [
       "Applying HeadlinesExtractor:   0%|          | 0/107 [00:00<?, ?it/s]"
      ]
     },
     "metadata": {},
     "output_type": "display_data"
    },
    {
     "data": {
      "application/vnd.jupyter.widget-view+json": {
       "model_id": "5f596a8a5e164e2f94e8700997bf3cde",
       "version_major": 2,
       "version_minor": 0
      },
      "text/plain": [
       "Applying HeadlineSplitter:   0%|          | 0/165 [00:00<?, ?it/s]"
      ]
     },
     "metadata": {},
     "output_type": "display_data"
    },
    {
     "name": "stderr",
     "output_type": "stream",
     "text": [
      "unable to apply transformation: 'headlines' property not found in this node\n",
      "unable to apply transformation: 'headlines' property not found in this node\n",
      "unable to apply transformation: 'headlines' property not found in this node\n",
      "unable to apply transformation: 'headlines' property not found in this node\n",
      "unable to apply transformation: 'headlines' property not found in this node\n",
      "unable to apply transformation: 'headlines' property not found in this node\n",
      "unable to apply transformation: 'headlines' property not found in this node\n",
      "unable to apply transformation: 'headlines' property not found in this node\n",
      "unable to apply transformation: 'headlines' property not found in this node\n",
      "unable to apply transformation: 'headlines' property not found in this node\n",
      "unable to apply transformation: 'headlines' property not found in this node\n",
      "unable to apply transformation: 'headlines' property not found in this node\n",
      "unable to apply transformation: 'headlines' property not found in this node\n",
      "unable to apply transformation: 'headlines' property not found in this node\n",
      "unable to apply transformation: 'headlines' property not found in this node\n",
      "unable to apply transformation: 'headlines' property not found in this node\n",
      "unable to apply transformation: 'headlines' property not found in this node\n",
      "unable to apply transformation: 'headlines' property not found in this node\n",
      "unable to apply transformation: 'headlines' property not found in this node\n",
      "unable to apply transformation: 'headlines' property not found in this node\n",
      "unable to apply transformation: 'headlines' property not found in this node\n",
      "unable to apply transformation: 'headlines' property not found in this node\n",
      "unable to apply transformation: 'headlines' property not found in this node\n",
      "unable to apply transformation: 'headlines' property not found in this node\n",
      "unable to apply transformation: 'headlines' property not found in this node\n",
      "unable to apply transformation: 'headlines' property not found in this node\n",
      "unable to apply transformation: 'headlines' property not found in this node\n",
      "unable to apply transformation: 'headlines' property not found in this node\n",
      "unable to apply transformation: 'headlines' property not found in this node\n",
      "unable to apply transformation: 'headlines' property not found in this node\n",
      "unable to apply transformation: 'headlines' property not found in this node\n",
      "unable to apply transformation: 'headlines' property not found in this node\n",
      "unable to apply transformation: 'headlines' property not found in this node\n",
      "unable to apply transformation: 'headlines' property not found in this node\n",
      "unable to apply transformation: 'headlines' property not found in this node\n",
      "unable to apply transformation: 'headlines' property not found in this node\n",
      "unable to apply transformation: 'headlines' property not found in this node\n",
      "unable to apply transformation: 'headlines' property not found in this node\n",
      "unable to apply transformation: 'headlines' property not found in this node\n",
      "unable to apply transformation: 'headlines' property not found in this node\n",
      "unable to apply transformation: 'headlines' property not found in this node\n",
      "unable to apply transformation: 'headlines' property not found in this node\n",
      "unable to apply transformation: 'headlines' property not found in this node\n",
      "unable to apply transformation: 'headlines' property not found in this node\n",
      "unable to apply transformation: 'headlines' property not found in this node\n",
      "unable to apply transformation: 'headlines' property not found in this node\n",
      "unable to apply transformation: 'headlines' property not found in this node\n",
      "unable to apply transformation: 'headlines' property not found in this node\n",
      "unable to apply transformation: 'headlines' property not found in this node\n",
      "unable to apply transformation: 'headlines' property not found in this node\n",
      "unable to apply transformation: 'headlines' property not found in this node\n",
      "unable to apply transformation: 'headlines' property not found in this node\n",
      "unable to apply transformation: 'headlines' property not found in this node\n",
      "unable to apply transformation: 'headlines' property not found in this node\n",
      "unable to apply transformation: 'headlines' property not found in this node\n",
      "unable to apply transformation: 'headlines' property not found in this node\n",
      "unable to apply transformation: 'headlines' property not found in this node\n",
      "unable to apply transformation: 'headlines' property not found in this node\n"
     ]
    },
    {
     "data": {
      "application/vnd.jupyter.widget-view+json": {
       "model_id": "d5d44d95dc4b42e99d84142f8c9c134f",
       "version_major": 2,
       "version_minor": 0
      },
      "text/plain": [
       "Applying SummaryExtractor:   0%|          | 0/142 [00:00<?, ?it/s]"
      ]
     },
     "metadata": {},
     "output_type": "display_data"
    },
    {
     "name": "stderr",
     "output_type": "stream",
     "text": [
      "Property 'summary' already exists in node 'c8c7e4'. Skipping!\n",
      "Property 'summary' already exists in node '17792d'. Skipping!\n",
      "Property 'summary' already exists in node '31305f'. Skipping!\n",
      "Property 'summary' already exists in node '1c4af2'. Skipping!\n",
      "Property 'summary' already exists in node '597935'. Skipping!\n",
      "Property 'summary' already exists in node '486a94'. Skipping!\n",
      "Property 'summary' already exists in node '842267'. Skipping!\n",
      "Property 'summary' already exists in node '7b9b09'. Skipping!\n",
      "Property 'summary' already exists in node '9e6906'. Skipping!\n",
      "Property 'summary' already exists in node 'c3a812'. Skipping!\n",
      "Property 'summary' already exists in node '82d1ed'. Skipping!\n",
      "Property 'summary' already exists in node '781df7'. Skipping!\n",
      "Property 'summary' already exists in node 'bf1bc4'. Skipping!\n",
      "Property 'summary' already exists in node 'f4ac95'. Skipping!\n",
      "Property 'summary' already exists in node 'f06c57'. Skipping!\n",
      "Property 'summary' already exists in node 'cca167'. Skipping!\n",
      "Property 'summary' already exists in node '2a5a59'. Skipping!\n",
      "Property 'summary' already exists in node '6fbdd9'. Skipping!\n",
      "Property 'summary' already exists in node '63335c'. Skipping!\n",
      "Property 'summary' already exists in node 'ee3e8b'. Skipping!\n",
      "Property 'summary' already exists in node '4f151e'. Skipping!\n",
      "Property 'summary' already exists in node 'baa306'. Skipping!\n",
      "Property 'summary' already exists in node '1c1a93'. Skipping!\n",
      "Property 'summary' already exists in node '4643b7'. Skipping!\n",
      "Property 'summary' already exists in node '774220'. Skipping!\n",
      "Property 'summary' already exists in node 'dd8300'. Skipping!\n",
      "Property 'summary' already exists in node 'bd050b'. Skipping!\n",
      "Property 'summary' already exists in node '3a4da0'. Skipping!\n",
      "Property 'summary' already exists in node '6025b0'. Skipping!\n",
      "Property 'summary' already exists in node '4efd95'. Skipping!\n",
      "Property 'summary' already exists in node '5aa310'. Skipping!\n",
      "Property 'summary' already exists in node 'a33e2b'. Skipping!\n",
      "Property 'summary' already exists in node 'ba6c09'. Skipping!\n",
      "Property 'summary' already exists in node '330ab9'. Skipping!\n",
      "Property 'summary' already exists in node 'e81509'. Skipping!\n"
     ]
    },
    {
     "data": {
      "application/vnd.jupyter.widget-view+json": {
       "model_id": "545ecb06101742aeabbf47130a9ed0c3",
       "version_major": 2,
       "version_minor": 0
      },
      "text/plain": [
       "Applying CustomNodeFilter:   0%|          | 0/185 [00:00<?, ?it/s]"
      ]
     },
     "metadata": {},
     "output_type": "display_data"
    },
    {
     "data": {
      "application/vnd.jupyter.widget-view+json": {
       "model_id": "23dd79134aca47ecafbac9aba77db985",
       "version_major": 2,
       "version_minor": 0
      },
      "text/plain": [
       "Applying [EmbeddingExtractor, ThemesExtractor, NERExtractor]:   0%|          | 0/510 [00:00<?, ?it/s]"
      ]
     },
     "metadata": {},
     "output_type": "display_data"
    },
    {
     "name": "stderr",
     "output_type": "stream",
     "text": [
      "Property 'summary_embedding' already exists in node '1c4af2'. Skipping!\n",
      "Property 'summary_embedding' already exists in node 'c8c7e4'. Skipping!\n",
      "Property 'summary_embedding' already exists in node 'c3a812'. Skipping!\n",
      "Property 'summary_embedding' already exists in node '31305f'. Skipping!\n",
      "Property 'summary_embedding' already exists in node '597935'. Skipping!\n",
      "Property 'summary_embedding' already exists in node '9e6906'. Skipping!\n",
      "Property 'summary_embedding' already exists in node '17792d'. Skipping!\n",
      "Property 'summary_embedding' already exists in node '842267'. Skipping!\n",
      "Property 'summary_embedding' already exists in node '486a94'. Skipping!\n",
      "Property 'summary_embedding' already exists in node '7b9b09'. Skipping!\n",
      "Property 'summary_embedding' already exists in node '82d1ed'. Skipping!\n",
      "Property 'summary_embedding' already exists in node 'bf1bc4'. Skipping!\n",
      "Property 'summary_embedding' already exists in node 'f4ac95'. Skipping!\n",
      "Property 'summary_embedding' already exists in node '781df7'. Skipping!\n",
      "Property 'summary_embedding' already exists in node 'dd8300'. Skipping!\n",
      "Property 'summary_embedding' already exists in node '3a4da0'. Skipping!\n",
      "Property 'summary_embedding' already exists in node '330ab9'. Skipping!\n",
      "Property 'summary_embedding' already exists in node 'f06c57'. Skipping!\n",
      "Property 'summary_embedding' already exists in node '4efd95'. Skipping!\n",
      "Property 'summary_embedding' already exists in node '6fbdd9'. Skipping!\n",
      "Property 'summary_embedding' already exists in node '2a5a59'. Skipping!\n",
      "Property 'summary_embedding' already exists in node '4f151e'. Skipping!\n",
      "Property 'summary_embedding' already exists in node 'cca167'. Skipping!\n",
      "Property 'summary_embedding' already exists in node 'ba6c09'. Skipping!\n",
      "Property 'summary_embedding' already exists in node '774220'. Skipping!\n",
      "Property 'summary_embedding' already exists in node 'baa306'. Skipping!\n",
      "Property 'summary_embedding' already exists in node '63335c'. Skipping!\n",
      "Property 'summary_embedding' already exists in node 'ee3e8b'. Skipping!\n",
      "Property 'summary_embedding' already exists in node '4643b7'. Skipping!\n",
      "Property 'summary_embedding' already exists in node '1c1a93'. Skipping!\n",
      "Property 'summary_embedding' already exists in node 'a33e2b'. Skipping!\n",
      "Property 'summary_embedding' already exists in node '5aa310'. Skipping!\n",
      "Property 'summary_embedding' already exists in node 'e81509'. Skipping!\n",
      "Property 'summary_embedding' already exists in node 'bd050b'. Skipping!\n",
      "Property 'summary_embedding' already exists in node '6025b0'. Skipping!\n"
     ]
    },
    {
     "data": {
      "application/vnd.jupyter.widget-view+json": {
       "model_id": "bdaf3d9fbaf7447a86b78485b1ab5288",
       "version_major": 2,
       "version_minor": 0
      },
      "text/plain": [
       "Applying [CosineSimilarityBuilder, OverlapScoreBuilder]:   0%|          | 0/2 [00:00<?, ?it/s]"
      ]
     },
     "metadata": {},
     "output_type": "display_data"
    },
    {
     "data": {
      "application/vnd.jupyter.widget-view+json": {
       "model_id": "7b7e4979bd2d40ecb9abcb65d0ebb239",
       "version_major": 2,
       "version_minor": 0
      },
      "text/plain": [
       "Generating Scenarios:   0%|          | 0/3 [00:00<?, ?it/s]"
      ]
     },
     "metadata": {},
     "output_type": "display_data"
    },
    {
     "data": {
      "application/vnd.jupyter.widget-view+json": {
       "model_id": "a26728058a984032aa0869f8bf40889c",
       "version_major": 2,
       "version_minor": 0
      },
      "text/plain": [
       "Generating Samples:   0%|          | 0/100 [00:00<?, ?it/s]"
      ]
     },
     "metadata": {},
     "output_type": "display_data"
    }
   ],
   "source": [
    "#dataset = generator.generate_with_langchain_docs(docs, testset_size=num_qa_to_generate)\n",
    "\n",
    "# https://docs.ragas.io/en/stable/references/synthesizers/\n",
    "# \n",
    "from ragas.testset.synthesizers import (\n",
    "    SingleHopSpecificQuerySynthesizer,\n",
    "    MultiHopAbstractQuerySynthesizer,\n",
    "    MultiHopSpecificQuerySynthesizer\n",
    ")\n",
    "query_distribution = [\n",
    "    (SingleHopSpecificQuerySynthesizer(), 0.4),  # Simple questions\n",
    "    (MultiHopSpecificQuerySynthesizer(), 0.4),   # Complex questions\n",
    "    (MultiHopAbstractQuerySynthesizer(), 0.2)    # Reasoning questions\n",
    "]\n",
    "\n",
    "dataset = generator.generate_with_langchain_docs(\n",
    "    docs,\n",
    "    testset_size=100,\n",
    "    query_distribution=query_distribution\n",
    ")\n"
   ]
  },
  {
   "cell_type": "code",
   "execution_count": 10,
   "id": "e3286041-7bdb-48a3-b32e-edc616ba46b4",
   "metadata": {},
   "outputs": [
    {
     "data": {
      "text/html": [
       "<div>\n",
       "<style scoped>\n",
       "    .dataframe tbody tr th:only-of-type {\n",
       "        vertical-align: middle;\n",
       "    }\n",
       "\n",
       "    .dataframe tbody tr th {\n",
       "        vertical-align: top;\n",
       "    }\n",
       "\n",
       "    .dataframe thead th {\n",
       "        text-align: right;\n",
       "    }\n",
       "</style>\n",
       "<table border=\"1\" class=\"dataframe\">\n",
       "  <thead>\n",
       "    <tr style=\"text-align: right;\">\n",
       "      <th></th>\n",
       "      <th>user_input</th>\n",
       "      <th>reference_contexts</th>\n",
       "      <th>reference</th>\n",
       "      <th>synthesizer_name</th>\n",
       "    </tr>\n",
       "  </thead>\n",
       "  <tbody>\n",
       "    <tr>\n",
       "      <th>0</th>\n",
       "      <td>What are the key features of MSTest in the con...</td>\n",
       "      <td>[title: Write your first .NET Aspire test desc...</td>\n",
       "      <td>MSTest is one of the testing frameworks availa...</td>\n",
       "      <td>single_hop_specifc_query_synthesizer</td>\n",
       "    </tr>\n",
       "    <tr>\n",
       "      <th>1</th>\n",
       "      <td>What does the DistributedApplicationTestingBui...</td>\n",
       "      <td>[Test resource environment variables To furthe...</td>\n",
       "      <td>The DistributedApplicationTestingBuilder follo...</td>\n",
       "      <td>single_hop_specifc_query_synthesizer</td>\n",
       "    </tr>\n",
       "    <tr>\n",
       "      <th>2</th>\n",
       "      <td>What is the purpose of the DOTNET_DASHBOARD_OT...</td>\n",
       "      <td>[title: Enable browser telemetry description: ...</td>\n",
       "      <td>The DOTNET_DASHBOARD_OTLP_ENDPOINT_URL is the ...</td>\n",
       "      <td>single_hop_specifc_query_synthesizer</td>\n",
       "    </tr>\n",
       "    <tr>\n",
       "      <th>3</th>\n",
       "      <td>How does HTTP work with OTLP endpoints in the ...</td>\n",
       "      <td>[OTLP endpoint security Dashboard OTLP endpoin...</td>\n",
       "      <td>HTTP OTLP requests to the dashboard must inclu...</td>\n",
       "      <td>single_hop_specifc_query_synthesizer</td>\n",
       "    </tr>\n",
       "    <tr>\n",
       "      <th>4</th>\n",
       "      <td>What Qdrant do?</td>\n",
       "      <td>[title: .NET Aspire Qdrant integration descrip...</td>\n",
       "      <td>Qdrant is an open-source vector similarity sea...</td>\n",
       "      <td>single_hop_specifc_query_synthesizer</td>\n",
       "    </tr>\n",
       "    <tr>\n",
       "      <th>...</th>\n",
       "      <td>...</td>\n",
       "      <td>...</td>\n",
       "      <td>...</td>\n",
       "      <td>...</td>\n",
       "    </tr>\n",
       "    <tr>\n",
       "      <th>95</th>\n",
       "      <td>How do you configure frontend authentication f...</td>\n",
       "      <td>[&lt;1-hop&gt;\\n\\ntitle: .NET Aspire dashboard confi...</td>\n",
       "      <td>Frontend authentication for the .NET Aspire da...</td>\n",
       "      <td>multi_hop_abstract_query_synthesizer</td>\n",
       "    </tr>\n",
       "    <tr>\n",
       "      <th>96</th>\n",
       "      <td>What are the dashboard configuration options f...</td>\n",
       "      <td>[&lt;1-hop&gt;\\n\\nOTLP authentication The OTLP endpo...</td>\n",
       "      <td>The dashboard configuration options for log en...</td>\n",
       "      <td>multi_hop_abstract_query_synthesizer</td>\n",
       "    </tr>\n",
       "    <tr>\n",
       "      <th>97</th>\n",
       "      <td>How does the .NET Aspire MongoDB database inte...</td>\n",
       "      <td>[&lt;1-hop&gt;\\n\\ntitle: .NET Aspire MongoDB databas...</td>\n",
       "      <td>The .NET Aspire MongoDB database integration e...</td>\n",
       "      <td>multi_hop_abstract_query_synthesizer</td>\n",
       "    </tr>\n",
       "    <tr>\n",
       "      <th>98</th>\n",
       "      <td>What are the key features of the .NET Aspire A...</td>\n",
       "      <td>[&lt;1-hop&gt;\\n\\ntitle: .NET Aspire Azure Cosmos DB...</td>\n",
       "      <td>The .NET Aspire Azure Cosmos DB integration pr...</td>\n",
       "      <td>multi_hop_abstract_query_synthesizer</td>\n",
       "    </tr>\n",
       "    <tr>\n",
       "      <th>99</th>\n",
       "      <td>What are the steps to add an Azure Storage res...</td>\n",
       "      <td>[&lt;1-hop&gt;\\n\\nms.topic: include The .NET Aspire ...</td>\n",
       "      <td>To add an Azure Storage resource in a .NET Asp...</td>\n",
       "      <td>multi_hop_abstract_query_synthesizer</td>\n",
       "    </tr>\n",
       "  </tbody>\n",
       "</table>\n",
       "<p>100 rows × 4 columns</p>\n",
       "</div>"
      ],
      "text/plain": [
       "                                           user_input  \\\n",
       "0   What are the key features of MSTest in the con...   \n",
       "1   What does the DistributedApplicationTestingBui...   \n",
       "2   What is the purpose of the DOTNET_DASHBOARD_OT...   \n",
       "3   How does HTTP work with OTLP endpoints in the ...   \n",
       "4                                     What Qdrant do?   \n",
       "..                                                ...   \n",
       "95  How do you configure frontend authentication f...   \n",
       "96  What are the dashboard configuration options f...   \n",
       "97  How does the .NET Aspire MongoDB database inte...   \n",
       "98  What are the key features of the .NET Aspire A...   \n",
       "99  What are the steps to add an Azure Storage res...   \n",
       "\n",
       "                                   reference_contexts  \\\n",
       "0   [title: Write your first .NET Aspire test desc...   \n",
       "1   [Test resource environment variables To furthe...   \n",
       "2   [title: Enable browser telemetry description: ...   \n",
       "3   [OTLP endpoint security Dashboard OTLP endpoin...   \n",
       "4   [title: .NET Aspire Qdrant integration descrip...   \n",
       "..                                                ...   \n",
       "95  [<1-hop>\\n\\ntitle: .NET Aspire dashboard confi...   \n",
       "96  [<1-hop>\\n\\nOTLP authentication The OTLP endpo...   \n",
       "97  [<1-hop>\\n\\ntitle: .NET Aspire MongoDB databas...   \n",
       "98  [<1-hop>\\n\\ntitle: .NET Aspire Azure Cosmos DB...   \n",
       "99  [<1-hop>\\n\\nms.topic: include The .NET Aspire ...   \n",
       "\n",
       "                                            reference  \\\n",
       "0   MSTest is one of the testing frameworks availa...   \n",
       "1   The DistributedApplicationTestingBuilder follo...   \n",
       "2   The DOTNET_DASHBOARD_OTLP_ENDPOINT_URL is the ...   \n",
       "3   HTTP OTLP requests to the dashboard must inclu...   \n",
       "4   Qdrant is an open-source vector similarity sea...   \n",
       "..                                                ...   \n",
       "95  Frontend authentication for the .NET Aspire da...   \n",
       "96  The dashboard configuration options for log en...   \n",
       "97  The .NET Aspire MongoDB database integration e...   \n",
       "98  The .NET Aspire Azure Cosmos DB integration pr...   \n",
       "99  To add an Azure Storage resource in a .NET Asp...   \n",
       "\n",
       "                        synthesizer_name  \n",
       "0   single_hop_specifc_query_synthesizer  \n",
       "1   single_hop_specifc_query_synthesizer  \n",
       "2   single_hop_specifc_query_synthesizer  \n",
       "3   single_hop_specifc_query_synthesizer  \n",
       "4   single_hop_specifc_query_synthesizer  \n",
       "..                                   ...  \n",
       "95  multi_hop_abstract_query_synthesizer  \n",
       "96  multi_hop_abstract_query_synthesizer  \n",
       "97  multi_hop_abstract_query_synthesizer  \n",
       "98  multi_hop_abstract_query_synthesizer  \n",
       "99  multi_hop_abstract_query_synthesizer  \n",
       "\n",
       "[100 rows x 4 columns]"
      ]
     },
     "execution_count": 10,
     "metadata": {},
     "output_type": "execute_result"
    }
   ],
   "source": [
    "dataset.to_pandas()\n",
    "type(dataset)\n",
    "\n",
    "file_name= f\"{openai_model}_ReducedAspireDocs_{num_qa_to_generate}\"\n",
    "\n",
    "df = dataset.to_pandas()\n",
    "df.to_pickle(f\"{file_name}.pkl\")\n",
    "df.to_csv(f\"{file_name}.csv\")\n",
    "\n",
    "df1 =  pd.read_pickle(f\"{file_name}.pkl\")\n",
    "df1\n"
   ]
  },
  {
   "cell_type": "code",
   "execution_count": null,
   "id": "14a13f49-8ece-4500-b2cc-6118f93d0723",
   "metadata": {},
   "outputs": [],
   "source": []
  }
 ],
 "metadata": {
  "kernelspec": {
   "display_name": "Python 3 (ipykernel)",
   "language": "python",
   "name": "python3"
  },
  "language_info": {
   "codemirror_mode": {
    "name": "ipython",
    "version": 3
   },
   "file_extension": ".py",
   "mimetype": "text/x-python",
   "name": "python",
   "nbconvert_exporter": "python",
   "pygments_lexer": "ipython3",
   "version": "3.12.8"
  }
 },
 "nbformat": 4,
 "nbformat_minor": 5
}
